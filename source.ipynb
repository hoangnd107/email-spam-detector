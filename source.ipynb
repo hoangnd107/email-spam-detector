{
  "cells": [
    {
      "cell_type": "markdown",
      "metadata": {
        "id": "NMaNXJyY1brm"
      },
      "source": [
        "### **Import Libraries**"
      ]
    },
    {
      "cell_type": "code",
      "execution_count": 470,
      "metadata": {
        "id": "WLA09_O402Wc"
      },
      "outputs": [],
      "source": [
        "import pandas as pd\n",
        "import seaborn as sns\n",
        "import matplotlib.pyplot as plt\n",
        "import re\n",
        "from nltk.stem import PorterStemmer\n",
        "from collections import Counter\n",
        "from imblearn.over_sampling import RandomOverSampler\n",
        "from sklearn.feature_extraction.text import CountVectorizer\n",
        "from sklearn.model_selection import train_test_split, GridSearchCV, KFold\n",
        "from sklearn.naive_bayes import MultinomialNB\n",
        "from sklearn.svm import SVC\n",
        "from sklearn.metrics import accuracy_score, classification_report, confusion_matrix\n",
        "import joblib"
      ]
    },
    {
      "cell_type": "markdown",
      "metadata": {
        "id": "eYMyV6Z611uu"
      },
      "source": [
        "### **Data Loading**"
      ]
    },
    {
      "cell_type": "code",
      "execution_count": 489,
      "metadata": {
        "colab": {
          "base_uri": "https://localhost:8080/",
          "height": 206
        },
        "id": "xHeJiAox1_Yg",
        "outputId": "52106ba7-00ce-4d46-a668-ca4677cd00d7"
      },
      "outputs": [
        {
          "data": {
            "text/html": [
              "<div>\n",
              "<style scoped>\n",
              "    .dataframe tbody tr th:only-of-type {\n",
              "        vertical-align: middle;\n",
              "    }\n",
              "\n",
              "    .dataframe tbody tr th {\n",
              "        vertical-align: top;\n",
              "    }\n",
              "\n",
              "    .dataframe thead th {\n",
              "        text-align: right;\n",
              "    }\n",
              "</style>\n",
              "<table border=\"1\" class=\"dataframe\">\n",
              "  <thead>\n",
              "    <tr style=\"text-align: right;\">\n",
              "      <th></th>\n",
              "      <th>label</th>\n",
              "      <th>text</th>\n",
              "    </tr>\n",
              "  </thead>\n",
              "  <tbody>\n",
              "    <tr>\n",
              "      <th>0</th>\n",
              "      <td>ham</td>\n",
              "      <td>Go until jurong point, crazy.. Available only ...</td>\n",
              "    </tr>\n",
              "    <tr>\n",
              "      <th>1</th>\n",
              "      <td>ham</td>\n",
              "      <td>Ok lar... Joking wif u oni...</td>\n",
              "    </tr>\n",
              "    <tr>\n",
              "      <th>2</th>\n",
              "      <td>spam</td>\n",
              "      <td>Free entry in 2 a wkly comp to win FA Cup fina...</td>\n",
              "    </tr>\n",
              "    <tr>\n",
              "      <th>3</th>\n",
              "      <td>ham</td>\n",
              "      <td>U dun say so early hor... U c already then say...</td>\n",
              "    </tr>\n",
              "    <tr>\n",
              "      <th>4</th>\n",
              "      <td>ham</td>\n",
              "      <td>Nah I don't think he goes to usf, he lives aro...</td>\n",
              "    </tr>\n",
              "  </tbody>\n",
              "</table>\n",
              "</div>"
            ],
            "text/plain": [
              "  label                                               text\n",
              "0   ham  Go until jurong point, crazy.. Available only ...\n",
              "1   ham                      Ok lar... Joking wif u oni...\n",
              "2  spam  Free entry in 2 a wkly comp to win FA Cup fina...\n",
              "3   ham  U dun say so early hor... U c already then say...\n",
              "4   ham  Nah I don't think he goes to usf, he lives aro..."
            ]
          },
          "execution_count": 489,
          "metadata": {},
          "output_type": "execute_result"
        }
      ],
      "source": [
        "df = pd.read_csv('data.txt', delimiter='\\t', header=None, names=['label', 'text'])\n",
        "df.head()"
      ]
    },
    {
      "cell_type": "markdown",
      "metadata": {
        "id": "xBEWs7pt2gFn"
      },
      "source": [
        "### **Data Preprocessing**"
      ]
    },
    {
      "cell_type": "markdown",
      "metadata": {
        "id": "uT1toq2sWn1h"
      },
      "source": [
        "**Remove duplicate values**"
      ]
    },
    {
      "cell_type": "code",
      "execution_count": 472,
      "metadata": {
        "id": "qicD6RFXW9_I"
      },
      "outputs": [],
      "source": [
        "df = df.drop_duplicates(keep='first')"
      ]
    },
    {
      "cell_type": "markdown",
      "metadata": {
        "id": "q7D82wbT3GEH"
      },
      "source": [
        "**Split into Independent and dependent variable**"
      ]
    },
    {
      "cell_type": "code",
      "execution_count": 473,
      "metadata": {
        "id": "wPW3ad4j3S80"
      },
      "outputs": [],
      "source": [
        "x = df['text']\n",
        "y = df['label']"
      ]
    },
    {
      "cell_type": "markdown",
      "metadata": {
        "id": "j2lnkbFTewYV"
      },
      "source": [
        "**Text Preprocessing**"
      ]
    },
    {
      "cell_type": "markdown",
      "metadata": {
        "id": "5KoyGClte7XO"
      },
      "source": [
        "Creating a function to:\n",
        "- lowercase the text\n",
        "- remove special characters\n",
        "- normalize certain words use stems of words instead of the original form using porter stemmer algorithm"
      ]
    },
    {
      "cell_type": "code",
      "execution_count": 474,
      "metadata": {
        "id": "5OnrUWL2fCDi"
      },
      "outputs": [],
      "source": [
        "porter_stemmer = PorterStemmer()\n",
        "def preprocessor(text):\n",
        "    text = text.lower()\n",
        "    text = re.sub(\"\\\\W\", \" \", text)\n",
        "    text = re.sub(\"\\\\s+(in|the|all|for|and|on)\\\\s+\", \" _connector_ \", text)\n",
        "    words = re.split(\"\\\\s+\", text)\n",
        "    stemmed_words = [porter_stemmer.stem(word=word) for word in words]\n",
        "    return ' '.join(stemmed_words)"
      ]
    },
    {
      "cell_type": "markdown",
      "metadata": {
        "id": "Vx-NOpaafLSk"
      },
      "source": [
        "Creating tokenizer function to create a space between special characters, split based on whitespace"
      ]
    },
    {
      "cell_type": "code",
      "execution_count": 475,
      "metadata": {
        "id": "qtNqSqa-fRq0"
      },
      "outputs": [],
      "source": [
        "def tokenizer(text):\n",
        "    text = re.sub(\"(\\\\W)\", \" \\\\1 \", text)\n",
        "    return re.split(\"\\\\s+\", text)"
      ]
    },
    {
      "cell_type": "markdown",
      "metadata": {
        "id": "wQsn-7Ka346q"
      },
      "source": [
        "**Feature extraction**"
      ]
    },
    {
      "cell_type": "code",
      "execution_count": 476,
      "metadata": {
        "colab": {
          "base_uri": "https://localhost:8080/"
        },
        "id": "ize_cMkx4N8Q",
        "outputId": "332c92db-e609-4564-84b0-b77a31ad34b0"
      },
      "outputs": [
        {
          "name": "stdout",
          "output_type": "stream",
          "text": [
            "<Compressed Sparse Row sparse matrix of dtype 'int64'\n",
            "\twith 63107 stored elements and shape (5169, 515)>\n",
            "  Coords\tValues\n",
            "  (0, 149)\t1\n",
            "  (0, 332)\t1\n",
            "  (0, 314)\t1\n",
            "  (0, 16)\t1\n",
            "  (0, 286)\t1\n",
            "  (0, 155)\t1\n",
            "  (0, 128)\t1\n",
            "  (0, 404)\t1\n",
            "  (0, 154)\t1\n",
            "  (0, 455)\t1\n",
            "  (0, 0)\t1\n",
            "  (1, 0)\t1\n",
            "  (1, 309)\t1\n",
            "  (1, 230)\t1\n",
            "  (1, 434)\t1\n",
            "  (2, 16)\t1\n",
            "  (2, 141)\t1\n",
            "  (2, 8)\t1\n",
            "  (2, 28)\t1\n",
            "  (2, 413)\t3\n",
            "  (2, 476)\t1\n",
            "  (2, 261)\t1\n",
            "  (2, 393)\t1\n",
            "  (2, 346)\t1\n",
            "  (2, 433)\t1\n",
            "  :\t:\n",
            "  (5166, 45)\t1\n",
            "  (5166, 316)\t1\n",
            "  (5167, 16)\t3\n",
            "  (5167, 141)\t1\n",
            "  (5167, 413)\t1\n",
            "  (5167, 190)\t2\n",
            "  (5167, 172)\t1\n",
            "  (5167, 217)\t1\n",
            "  (5167, 461)\t1\n",
            "  (5167, 105)\t1\n",
            "  (5167, 240)\t1\n",
            "  (5167, 373)\t1\n",
            "  (5167, 61)\t1\n",
            "  (5167, 401)\t1\n",
            "  (5167, 293)\t1\n",
            "  (5167, 112)\t1\n",
            "  (5167, 443)\t1\n",
            "  (5167, 73)\t1\n",
            "  (5167, 375)\t1\n",
            "  (5167, 75)\t1\n",
            "  (5167, 74)\t1\n",
            "  (5167, 161)\t1\n",
            "  (5168, 413)\t1\n",
            "  (5168, 217)\t2\n",
            "  (5168, 287)\t1\n"
          ]
        }
      ],
      "source": [
        "vectorizer = CountVectorizer(tokenizer=tokenizer, ngram_range=(1,2), min_df=0.006, preprocessor=preprocessor)\n",
        "x = vectorizer.fit_transform(x)\n",
        "print(x)"
      ]
    },
    {
      "cell_type": "markdown",
      "metadata": {
        "id": "DR65PdGIf06D"
      },
      "source": [
        "**Check Data is imbalanced**"
      ]
    },
    {
      "cell_type": "code",
      "execution_count": 477,
      "metadata": {
        "colab": {
          "base_uri": "https://localhost:8080/",
          "height": 466
        },
        "id": "AfZxjHh0f5qU",
        "outputId": "3a9512e9-cd60-4df8-a553-5791be1d1b49"
      },
      "outputs": [
        {
          "data": {
            "text/plain": [
              "<Axes: xlabel='count', ylabel='label'>"
            ]
          },
          "execution_count": 477,
          "metadata": {},
          "output_type": "execute_result"
        },
        {
          "data": {
            "image/png": "[encoded data removed]",
            "text/plain": [
              "<Figure size 640x480 with 1 Axes>"
            ]
          },
          "metadata": {},
          "output_type": "display_data"
        }
      ],
      "source": [
        "sns.countplot(df['label'])"
      ]
    },
    {
      "cell_type": "markdown",
      "metadata": {
        "id": "9rcz1iUzgFBT"
      },
      "source": [
        "Target class has an uneven distribution of observations, so using random over sampling method to balance the target variable’s observation"
      ]
    },
    {
      "cell_type": "code",
      "execution_count": 478,
      "metadata": {
        "colab": {
          "base_uri": "https://localhost:8080/"
        },
        "id": "m1Z9BJL4gLxh",
        "outputId": "e20976e4-6201-4d92-8c9c-b4f310c91613"
      },
      "outputs": [
        {
          "name": "stdout",
          "output_type": "stream",
          "text": [
            "Original dataset shape : Counter({'ham': 4516, 'spam': 653})\n",
            "Modified dataset shape : Counter({'ham': 4516, 'spam': 4516})\n"
          ]
        }
      ],
      "source": [
        "ran = RandomOverSampler(random_state=42)\n",
        "print(f'Original dataset shape : {Counter(y)}')\n",
        "\n",
        "x, y = ran.fit_resample(x, y)\n",
        "print(f'Modified dataset shape : {Counter(y)}')"
      ]
    },
    {
      "cell_type": "markdown",
      "metadata": {
        "id": "brmCurbI4kGv"
      },
      "source": [
        "### **Data Spliting**"
      ]
    },
    {
      "cell_type": "code",
      "execution_count": 479,
      "metadata": {
        "id": "wdXTn6ss408R"
      },
      "outputs": [],
      "source": [
        "x_train, x_test, y_train, y_test = train_test_split(x, y, test_size=0.2, random_state=0)"
      ]
    },
    {
      "cell_type": "markdown",
      "metadata": {
        "id": "okgMRd9e44aH"
      },
      "source": [
        "### **Model Training and Testing**"
      ]
    },
    {
      "cell_type": "markdown",
      "metadata": {
        "id": "SumBtb4qhwlS"
      },
      "source": [
        "**Naive Bayes Model**"
      ]
    },
    {
      "cell_type": "code",
      "execution_count": 480,
      "metadata": {
        "colab": {
          "base_uri": "https://localhost:8080/",
          "height": 75
        },
        "id": "e0dZklLw5Yao",
        "outputId": "fc4e1674-1492-48de-bef6-aebea5d40260"
      },
      "outputs": [
        {
          "data": {
            "text/plain": [
              "0.9629219701162147"
            ]
          },
          "execution_count": 480,
          "metadata": {},
          "output_type": "execute_result"
        }
      ],
      "source": [
        "nb = MultinomialNB()\n",
        "nb.fit(x_train,y_train)\n",
        "accuracy = accuracy_score(y_test, nb.predict(x_test))\n",
        "accuracy"
      ]
    },
    {
      "cell_type": "markdown",
      "metadata": {
        "id": "IOfFC85Kh1xg"
      },
      "source": [
        "**SVM Model**"
      ]
    },
    {
      "cell_type": "code",
      "execution_count": 481,
      "metadata": {
        "colab": {
          "base_uri": "https://localhost:8080/",
          "height": 75
        },
        "id": "lFNvbr_ih49Z",
        "outputId": "ffe77bc0-0b53-4157-89a4-11e6f2b1ef74"
      },
      "outputs": [
        {
          "data": {
            "text/plain": [
              "0.9905921416712784"
            ]
          },
          "execution_count": 481,
          "metadata": {},
          "output_type": "execute_result"
        }
      ],
      "source": [
        "model = SVC(C=1, kernel=\"linear\")\n",
        "model.fit(x_train, y_train)\n",
        "accuracy = accuracy_score(y_test, model.predict(x_test))\n",
        "accuracy"
      ]
    },
    {
      "cell_type": "markdown",
      "metadata": {
        "id": "jkjhrYPjhk23"
      },
      "source": [
        "### **Hyperparameter Optimization**"
      ]
    },
    {
      "cell_type": "markdown",
      "metadata": {
        "id": "XCysyBArjHTo"
      },
      "source": [
        "**Naive Bayes Model**"
      ]
    },
    {
      "cell_type": "code",
      "execution_count": 482,
      "metadata": {
        "colab": {
          "base_uri": "https://localhost:8080/",
          "height": 118
        },
        "id": "w5lS5MY_jKMo",
        "outputId": "181ccf1f-e654-4b56-d737-93eeda842599"
      },
      "outputs": [
        {
          "data": {
            "text/plain": [
              "0.9640287769784173"
            ]
          },
          "execution_count": 482,
          "metadata": {},
          "output_type": "execute_result"
        }
      ],
      "source": [
        "params = {\n",
        "    'alpha': [0.1, 0.5, 1.0],\n",
        "    'fit_prior': [True, False]\n",
        "}\n",
        "\n",
        "cval = KFold(n_splits=2)\n",
        "model = MultinomialNB()\n",
        "tunedNB = GridSearchCV(model, params, cv=cval)\n",
        "tunedNB.fit(x_train, y_train)\n",
        "\n",
        "accuracy = accuracy_score(y_test, tunedNB.predict(x_test))\n",
        "accuracy"
      ]
    },
    {
      "cell_type": "markdown",
      "metadata": {
        "id": "5njGbYFQiLsQ"
      },
      "source": [
        "**SVM Model**"
      ]
    },
    {
      "cell_type": "code",
      "execution_count": 483,
      "metadata": {
        "id": "2KN2nH0-iQ4R"
      },
      "outputs": [
        {
          "data": {
            "text/plain": [
              "0.9889319313779745"
            ]
          },
          "execution_count": 483,
          "metadata": {},
          "output_type": "execute_result"
        }
      ],
      "source": [
        "params = {\"C\": [0.2, 0.5], \"kernel\": ['linear', 'sigmoid']}\n",
        "\n",
        "cval = KFold(n_splits=2)\n",
        "model =  SVC();\n",
        "tunedSVM = GridSearchCV(model, params, cv=cval)\n",
        "tunedSVM.fit(x_train, y_train)\n",
        "\n",
        "accuracy = accuracy_score(y_test, tunedSVM.predict(x_test))\n",
        "accuracy"
      ]
    },
    {
      "cell_type": "markdown",
      "metadata": {
        "id": "48dACDEmjmz9"
      },
      "source": [
        "### **Model Evaluation**"
      ]
    },
    {
      "cell_type": "markdown",
      "metadata": {
        "id": "5nAUDCQ0jwq3"
      },
      "source": [
        "**Confusion matrix**"
      ]
    },
    {
      "cell_type": "code",
      "execution_count": 484,
      "metadata": {},
      "outputs": [
        {
          "data": {
            "image/png": "[encoded data removed]",
            "text/plain": [
              "<Figure size 1200x600 with 4 Axes>"
            ]
          },
          "metadata": {},
          "output_type": "display_data"
        }
      ],
      "source": [
        "fig, axes = plt.subplots(1, 2, figsize=(12, 6))\n",
        "\n",
        "sns.heatmap(confusion_matrix(y_test, tunedNB.predict(x_test)), annot=True, fmt=\"g\", ax=axes[0])\n",
        "axes[0].set_xlabel(\"Predicted\")\n",
        "axes[0].set_ylabel(\"Actual\")\n",
        "axes[0].set_title(\"Naive Bayes\")\n",
        "\n",
        "sns.heatmap(confusion_matrix(y_test, tunedSVM.predict(x_test)), annot=True, fmt=\"g\", ax=axes[1])\n",
        "axes[1].set_xlabel(\"Predicted\")\n",
        "axes[1].set_ylabel(\"Actual\")\n",
        "axes[1].set_title(\"SVM\")\n",
        "\n",
        "plt.tight_layout()\n",
        "plt.show()"
      ]
    },
    {
      "cell_type": "markdown",
      "metadata": {
        "id": "dASrVKORj_lH"
      },
      "source": [
        "**Classification report**"
      ]
    },
    {
      "cell_type": "code",
      "execution_count": 485,
      "metadata": {},
      "outputs": [
        {
          "name": "stdout",
          "output_type": "stream",
          "text": [
            "              precision    recall  f1-score   support\n",
            "\n",
            "         ham       0.96      0.97      0.96       903\n",
            "        spam       0.97      0.96      0.96       904\n",
            "\n",
            "    accuracy                           0.96      1807\n",
            "   macro avg       0.96      0.96      0.96      1807\n",
            "weighted avg       0.96      0.96      0.96      1807\n",
            "\n"
          ]
        }
      ],
      "source": [
        "print(classification_report(y_test,tunedNB.predict(x_test)))"
      ]
    },
    {
      "cell_type": "code",
      "execution_count": 486,
      "metadata": {
        "colab": {
          "base_uri": "https://localhost:8080/"
        },
        "id": "KVk2ALtLkFIy",
        "outputId": "f8544ae0-d947-4a5b-ab97-edd2b5c389b2"
      },
      "outputs": [
        {
          "name": "stdout",
          "output_type": "stream",
          "text": [
            "              precision    recall  f1-score   support\n",
            "\n",
            "         ham       1.00      0.98      0.99       903\n",
            "        spam       0.98      1.00      0.99       904\n",
            "\n",
            "    accuracy                           0.99      1807\n",
            "   macro avg       0.99      0.99      0.99      1807\n",
            "weighted avg       0.99      0.99      0.99      1807\n",
            "\n"
          ]
        }
      ],
      "source": [
        "print(classification_report(y_test,tunedSVM.predict(x_test)))"
      ]
    },
    {
      "cell_type": "markdown",
      "metadata": {
        "id": "20j_NaSzpLhF"
      },
      "source": [
        "### **Model Saving**"
      ]
    },
    {
      "cell_type": "code",
      "execution_count": 487,
      "metadata": {
        "id": "KoP5oVzKpQ7v"
      },
      "outputs": [
        {
          "data": {
            "text/plain": [
              "['model.pkl']"
            ]
          },
          "execution_count": 487,
          "metadata": {},
          "output_type": "execute_result"
        }
      ],
      "source": [
        "joblib.dump(tunedSVM, 'model.pkl')"
      ]
    }
  ],
  "metadata": {
    "colab": {
      "provenance": [],
      "toc_visible": true
    },
    "kernelspec": {
      "display_name": "Python 3",
      "name": "python3"
    },
    "language_info": {
      "codemirror_mode": {
        "name": "ipython",
        "version": 3
      },
      "file_extension": ".py",
      "mimetype": "text/x-python",
      "name": "python",
      "nbconvert_exporter": "python",
      "pygments_lexer": "ipython3",
      "version": "3.13.0"
    }
  },
  "nbformat": 4,
  "nbformat_minor": 0
}
